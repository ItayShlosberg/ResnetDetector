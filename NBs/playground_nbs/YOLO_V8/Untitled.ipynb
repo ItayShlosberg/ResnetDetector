{
 "cells": [
  {
   "cell_type": "code",
   "execution_count": 1,
   "id": "a922a75f",
   "metadata": {},
   "outputs": [],
   "source": [
    "from ultralytics import YOLO\n",
    "from PIL import Image\n",
    "import torchvision.transforms as T\n",
    "import matplotlib.patches as patches\n",
    "import matplotlib.pyplot as plt\n"
   ]
  },
  {
   "cell_type": "code",
   "execution_count": null,
   "id": "56901a29",
   "metadata": {},
   "outputs": [],
   "source": []
  },
  {
   "cell_type": "code",
   "execution_count": 4,
   "id": "d6de629e",
   "metadata": {},
   "outputs": [],
   "source": [
    "# Load a model\n",
    "yolov8 = YOLO(\"yolov8n.pt\")  # load a pretrained model (recommended for training)\n"
   ]
  },
  {
   "cell_type": "code",
   "execution_count": 5,
   "id": "7cf69dca",
   "metadata": {},
   "outputs": [
    {
     "name": "stderr",
     "output_type": "stream",
     "text": [
      "\n",
      "image 1/1 C:\\Users\\itays\\Desktop\\accumulated_files\\images\\im3.jpg: 480x640 3 persons, 630.0ms\n",
      "Speed: 24.6ms preprocess, 630.0ms inference, 0.0ms postprocess per image at shape (1, 3, 480, 640)\n"
     ]
    }
   ],
   "source": [
    "# Load an image from a file\n",
    "image_path = fr'C:\\Users\\itays\\Desktop\\accumulated_files\\images\\im3.jpg'  # Replace with the path to your image\n",
    "image = Image.open(image_path)\n",
    "    \n",
    "results = yolov8(image_path)\n"
   ]
  },
  {
   "cell_type": "code",
   "execution_count": null,
   "id": "7a2f6020",
   "metadata": {},
   "outputs": [],
   "source": [
    "# Create a figure and an Axes object\n",
    "fig, ax = plt.subplots()"
   ]
  },
  {
   "cell_type": "code",
   "execution_count": null,
   "id": "b35ebde3",
   "metadata": {},
   "outputs": [],
   "source": [
    "\n",
    "\n",
    "# plt.imshow(image)\n",
    "# plt.title('Image');\n",
    "\n",
    "# for detection in results[0].boxes.xywh:\n",
    "#     # Assume each detection is a dictionary with 'bbox' key\n",
    "#     x_center, y_center, width, height = detection\n",
    "#     x = x_center - width / 2\n",
    "#     y = y_center - height / 2\n",
    "#     rect = patches.Rectangle((x, y), width, height, linewidth=1, edgecolor='r', facecolor='none')\n",
    "#     ax.add_patch(rect)\n",
    "        "
   ]
  }
 ],
 "metadata": {
  "kernelspec": {
   "display_name": "Python 3 (ipykernel)",
   "language": "python",
   "name": "python3"
  },
  "language_info": {
   "codemirror_mode": {
    "name": "ipython",
    "version": 3
   },
   "file_extension": ".py",
   "mimetype": "text/x-python",
   "name": "python",
   "nbconvert_exporter": "python",
   "pygments_lexer": "ipython3",
   "version": "3.9.13"
  }
 },
 "nbformat": 4,
 "nbformat_minor": 5
}
