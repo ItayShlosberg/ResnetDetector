{
 "cells": [
  {
   "cell_type": "code",
   "execution_count": 1,
   "id": "86669c5f",
   "metadata": {},
   "outputs": [],
   "source": [
    "import torch\n",
    "import torch.nn as nn\n",
    "import torchvision.models as models\n",
    "import torchvision.transforms as transforms\n",
    "from PIL import Image\n",
    "from pylab import *\n"
   ]
  },
  {
   "cell_type": "code",
   "execution_count": 15,
   "id": "9f693caf",
   "metadata": {},
   "outputs": [
    {
     "data": {
      "text/plain": [
       "ResNet(\n",
       "  (conv1): Conv2d(3, 64, kernel_size=(7, 7), stride=(2, 2), padding=(3, 3), bias=False)\n",
       "  (bn1): BatchNorm2d(64, eps=1e-05, momentum=0.1, affine=True, track_running_stats=True)\n",
       "  (relu): ReLU(inplace=True)\n",
       "  (maxpool): MaxPool2d(kernel_size=3, stride=2, padding=1, dilation=1, ceil_mode=False)\n",
       "  (layer1): Sequential(\n",
       "    (0): BasicBlock(\n",
       "      (conv1): Conv2d(64, 64, kernel_size=(3, 3), stride=(1, 1), padding=(1, 1), bias=False)\n",
       "      (bn1): BatchNorm2d(64, eps=1e-05, momentum=0.1, affine=True, track_running_stats=True)\n",
       "      (relu): ReLU(inplace=True)\n",
       "      (conv2): Conv2d(64, 64, kernel_size=(3, 3), stride=(1, 1), padding=(1, 1), bias=False)\n",
       "      (bn2): BatchNorm2d(64, eps=1e-05, momentum=0.1, affine=True, track_running_stats=True)\n",
       "    )\n",
       "    (1): BasicBlock(\n",
       "      (conv1): Conv2d(64, 64, kernel_size=(3, 3), stride=(1, 1), padding=(1, 1), bias=False)\n",
       "      (bn1): BatchNorm2d(64, eps=1e-05, momentum=0.1, affine=True, track_running_stats=True)\n",
       "      (relu): ReLU(inplace=True)\n",
       "      (conv2): Conv2d(64, 64, kernel_size=(3, 3), stride=(1, 1), padding=(1, 1), bias=False)\n",
       "      (bn2): BatchNorm2d(64, eps=1e-05, momentum=0.1, affine=True, track_running_stats=True)\n",
       "    )\n",
       "  )\n",
       "  (layer2): Sequential(\n",
       "    (0): BasicBlock(\n",
       "      (conv1): Conv2d(64, 128, kernel_size=(3, 3), stride=(2, 2), padding=(1, 1), bias=False)\n",
       "      (bn1): BatchNorm2d(128, eps=1e-05, momentum=0.1, affine=True, track_running_stats=True)\n",
       "      (relu): ReLU(inplace=True)\n",
       "      (conv2): Conv2d(128, 128, kernel_size=(3, 3), stride=(1, 1), padding=(1, 1), bias=False)\n",
       "      (bn2): BatchNorm2d(128, eps=1e-05, momentum=0.1, affine=True, track_running_stats=True)\n",
       "      (downsample): Sequential(\n",
       "        (0): Conv2d(64, 128, kernel_size=(1, 1), stride=(2, 2), bias=False)\n",
       "        (1): BatchNorm2d(128, eps=1e-05, momentum=0.1, affine=True, track_running_stats=True)\n",
       "      )\n",
       "    )\n",
       "    (1): BasicBlock(\n",
       "      (conv1): Conv2d(128, 128, kernel_size=(3, 3), stride=(1, 1), padding=(1, 1), bias=False)\n",
       "      (bn1): BatchNorm2d(128, eps=1e-05, momentum=0.1, affine=True, track_running_stats=True)\n",
       "      (relu): ReLU(inplace=True)\n",
       "      (conv2): Conv2d(128, 128, kernel_size=(3, 3), stride=(1, 1), padding=(1, 1), bias=False)\n",
       "      (bn2): BatchNorm2d(128, eps=1e-05, momentum=0.1, affine=True, track_running_stats=True)\n",
       "    )\n",
       "  )\n",
       "  (layer3): Sequential(\n",
       "    (0): BasicBlock(\n",
       "      (conv1): Conv2d(128, 256, kernel_size=(3, 3), stride=(2, 2), padding=(1, 1), bias=False)\n",
       "      (bn1): BatchNorm2d(256, eps=1e-05, momentum=0.1, affine=True, track_running_stats=True)\n",
       "      (relu): ReLU(inplace=True)\n",
       "      (conv2): Conv2d(256, 256, kernel_size=(3, 3), stride=(1, 1), padding=(1, 1), bias=False)\n",
       "      (bn2): BatchNorm2d(256, eps=1e-05, momentum=0.1, affine=True, track_running_stats=True)\n",
       "      (downsample): Sequential(\n",
       "        (0): Conv2d(128, 256, kernel_size=(1, 1), stride=(2, 2), bias=False)\n",
       "        (1): BatchNorm2d(256, eps=1e-05, momentum=0.1, affine=True, track_running_stats=True)\n",
       "      )\n",
       "    )\n",
       "    (1): BasicBlock(\n",
       "      (conv1): Conv2d(256, 256, kernel_size=(3, 3), stride=(1, 1), padding=(1, 1), bias=False)\n",
       "      (bn1): BatchNorm2d(256, eps=1e-05, momentum=0.1, affine=True, track_running_stats=True)\n",
       "      (relu): ReLU(inplace=True)\n",
       "      (conv2): Conv2d(256, 256, kernel_size=(3, 3), stride=(1, 1), padding=(1, 1), bias=False)\n",
       "      (bn2): BatchNorm2d(256, eps=1e-05, momentum=0.1, affine=True, track_running_stats=True)\n",
       "    )\n",
       "  )\n",
       "  (layer4): Sequential(\n",
       "    (0): BasicBlock(\n",
       "      (conv1): Conv2d(256, 512, kernel_size=(3, 3), stride=(2, 2), padding=(1, 1), bias=False)\n",
       "      (bn1): BatchNorm2d(512, eps=1e-05, momentum=0.1, affine=True, track_running_stats=True)\n",
       "      (relu): ReLU(inplace=True)\n",
       "      (conv2): Conv2d(512, 512, kernel_size=(3, 3), stride=(1, 1), padding=(1, 1), bias=False)\n",
       "      (bn2): BatchNorm2d(512, eps=1e-05, momentum=0.1, affine=True, track_running_stats=True)\n",
       "      (downsample): Sequential(\n",
       "        (0): Conv2d(256, 512, kernel_size=(1, 1), stride=(2, 2), bias=False)\n",
       "        (1): BatchNorm2d(512, eps=1e-05, momentum=0.1, affine=True, track_running_stats=True)\n",
       "      )\n",
       "    )\n",
       "    (1): BasicBlock(\n",
       "      (conv1): Conv2d(512, 512, kernel_size=(3, 3), stride=(1, 1), padding=(1, 1), bias=False)\n",
       "      (bn1): BatchNorm2d(512, eps=1e-05, momentum=0.1, affine=True, track_running_stats=True)\n",
       "      (relu): ReLU(inplace=True)\n",
       "      (conv2): Conv2d(512, 512, kernel_size=(3, 3), stride=(1, 1), padding=(1, 1), bias=False)\n",
       "      (bn2): BatchNorm2d(512, eps=1e-05, momentum=0.1, affine=True, track_running_stats=True)\n",
       "    )\n",
       "  )\n",
       "  (avgpool): AdaptiveAvgPool2d(output_size=(1, 1))\n",
       "  (fc): Linear(in_features=512, out_features=1000, bias=True)\n",
       ")"
      ]
     },
     "execution_count": 15,
     "metadata": {},
     "output_type": "execute_result"
    }
   ],
   "source": [
    "# Load a pretrained ResNet-18 model\n",
    "resnet18 = models.resnet18(pretrained=True)\n",
    "resnet18"
   ]
  },
  {
   "cell_type": "code",
   "execution_count": 17,
   "id": "05f6131c",
   "metadata": {},
   "outputs": [],
   "source": [
    "# Remove the last classification layer\n",
    "model = nn.Sequential(*list(resnet18.children())[:-2])\n"
   ]
  },
  {
   "cell_type": "code",
   "execution_count": 14,
   "id": "e4f3d102",
   "metadata": {},
   "outputs": [
    {
     "data": {
      "text/plain": [
       "Sequential(\n",
       "  (0): Conv2d(3, 64, kernel_size=(7, 7), stride=(2, 2), padding=(3, 3), bias=False)\n",
       "  (1): BatchNorm2d(64, eps=1e-05, momentum=0.1, affine=True, track_running_stats=True)\n",
       "  (2): ReLU(inplace=True)\n",
       "  (3): MaxPool2d(kernel_size=3, stride=2, padding=1, dilation=1, ceil_mode=False)\n",
       "  (4): Sequential(\n",
       "    (0): BasicBlock(\n",
       "      (conv1): Conv2d(64, 64, kernel_size=(3, 3), stride=(1, 1), padding=(1, 1), bias=False)\n",
       "      (bn1): BatchNorm2d(64, eps=1e-05, momentum=0.1, affine=True, track_running_stats=True)\n",
       "      (relu): ReLU(inplace=True)\n",
       "      (conv2): Conv2d(64, 64, kernel_size=(3, 3), stride=(1, 1), padding=(1, 1), bias=False)\n",
       "      (bn2): BatchNorm2d(64, eps=1e-05, momentum=0.1, affine=True, track_running_stats=True)\n",
       "    )\n",
       "    (1): BasicBlock(\n",
       "      (conv1): Conv2d(64, 64, kernel_size=(3, 3), stride=(1, 1), padding=(1, 1), bias=False)\n",
       "      (bn1): BatchNorm2d(64, eps=1e-05, momentum=0.1, affine=True, track_running_stats=True)\n",
       "      (relu): ReLU(inplace=True)\n",
       "      (conv2): Conv2d(64, 64, kernel_size=(3, 3), stride=(1, 1), padding=(1, 1), bias=False)\n",
       "      (bn2): BatchNorm2d(64, eps=1e-05, momentum=0.1, affine=True, track_running_stats=True)\n",
       "    )\n",
       "  )\n",
       "  (5): Sequential(\n",
       "    (0): BasicBlock(\n",
       "      (conv1): Conv2d(64, 128, kernel_size=(3, 3), stride=(2, 2), padding=(1, 1), bias=False)\n",
       "      (bn1): BatchNorm2d(128, eps=1e-05, momentum=0.1, affine=True, track_running_stats=True)\n",
       "      (relu): ReLU(inplace=True)\n",
       "      (conv2): Conv2d(128, 128, kernel_size=(3, 3), stride=(1, 1), padding=(1, 1), bias=False)\n",
       "      (bn2): BatchNorm2d(128, eps=1e-05, momentum=0.1, affine=True, track_running_stats=True)\n",
       "      (downsample): Sequential(\n",
       "        (0): Conv2d(64, 128, kernel_size=(1, 1), stride=(2, 2), bias=False)\n",
       "        (1): BatchNorm2d(128, eps=1e-05, momentum=0.1, affine=True, track_running_stats=True)\n",
       "      )\n",
       "    )\n",
       "    (1): BasicBlock(\n",
       "      (conv1): Conv2d(128, 128, kernel_size=(3, 3), stride=(1, 1), padding=(1, 1), bias=False)\n",
       "      (bn1): BatchNorm2d(128, eps=1e-05, momentum=0.1, affine=True, track_running_stats=True)\n",
       "      (relu): ReLU(inplace=True)\n",
       "      (conv2): Conv2d(128, 128, kernel_size=(3, 3), stride=(1, 1), padding=(1, 1), bias=False)\n",
       "      (bn2): BatchNorm2d(128, eps=1e-05, momentum=0.1, affine=True, track_running_stats=True)\n",
       "    )\n",
       "  )\n",
       "  (6): Sequential(\n",
       "    (0): BasicBlock(\n",
       "      (conv1): Conv2d(128, 256, kernel_size=(3, 3), stride=(2, 2), padding=(1, 1), bias=False)\n",
       "      (bn1): BatchNorm2d(256, eps=1e-05, momentum=0.1, affine=True, track_running_stats=True)\n",
       "      (relu): ReLU(inplace=True)\n",
       "      (conv2): Conv2d(256, 256, kernel_size=(3, 3), stride=(1, 1), padding=(1, 1), bias=False)\n",
       "      (bn2): BatchNorm2d(256, eps=1e-05, momentum=0.1, affine=True, track_running_stats=True)\n",
       "      (downsample): Sequential(\n",
       "        (0): Conv2d(128, 256, kernel_size=(1, 1), stride=(2, 2), bias=False)\n",
       "        (1): BatchNorm2d(256, eps=1e-05, momentum=0.1, affine=True, track_running_stats=True)\n",
       "      )\n",
       "    )\n",
       "    (1): BasicBlock(\n",
       "      (conv1): Conv2d(256, 256, kernel_size=(3, 3), stride=(1, 1), padding=(1, 1), bias=False)\n",
       "      (bn1): BatchNorm2d(256, eps=1e-05, momentum=0.1, affine=True, track_running_stats=True)\n",
       "      (relu): ReLU(inplace=True)\n",
       "      (conv2): Conv2d(256, 256, kernel_size=(3, 3), stride=(1, 1), padding=(1, 1), bias=False)\n",
       "      (bn2): BatchNorm2d(256, eps=1e-05, momentum=0.1, affine=True, track_running_stats=True)\n",
       "    )\n",
       "  )\n",
       "  (7): Sequential(\n",
       "    (0): BasicBlock(\n",
       "      (conv1): Conv2d(256, 512, kernel_size=(3, 3), stride=(2, 2), padding=(1, 1), bias=False)\n",
       "      (bn1): BatchNorm2d(512, eps=1e-05, momentum=0.1, affine=True, track_running_stats=True)\n",
       "      (relu): ReLU(inplace=True)\n",
       "      (conv2): Conv2d(512, 512, kernel_size=(3, 3), stride=(1, 1), padding=(1, 1), bias=False)\n",
       "      (bn2): BatchNorm2d(512, eps=1e-05, momentum=0.1, affine=True, track_running_stats=True)\n",
       "      (downsample): Sequential(\n",
       "        (0): Conv2d(256, 512, kernel_size=(1, 1), stride=(2, 2), bias=False)\n",
       "        (1): BatchNorm2d(512, eps=1e-05, momentum=0.1, affine=True, track_running_stats=True)\n",
       "      )\n",
       "    )\n",
       "    (1): BasicBlock(\n",
       "      (conv1): Conv2d(512, 512, kernel_size=(3, 3), stride=(1, 1), padding=(1, 1), bias=False)\n",
       "      (bn1): BatchNorm2d(512, eps=1e-05, momentum=0.1, affine=True, track_running_stats=True)\n",
       "      (relu): ReLU(inplace=True)\n",
       "      (conv2): Conv2d(512, 512, kernel_size=(3, 3), stride=(1, 1), padding=(1, 1), bias=False)\n",
       "      (bn2): BatchNorm2d(512, eps=1e-05, momentum=0.1, affine=True, track_running_stats=True)\n",
       "    )\n",
       "  )\n",
       ")"
      ]
     },
     "execution_count": 14,
     "metadata": {},
     "output_type": "execute_result"
    }
   ],
   "source": [
    "# Set the model to evaluation mode\n",
    "model.eval()"
   ]
  },
  {
   "cell_type": "code",
   "execution_count": 18,
   "id": "4e50e6cd",
   "metadata": {},
   "outputs": [],
   "source": [
    "# Load an image\n",
    "image_path = fr'C:\\Users\\itays\\Desktop\\accumulated_files\\images\\im3.jpg'  # Replace with the path to your image\n",
    "image = Image.open(image_path)\n",
    "\n",
    "# Define the sliding window size and stride\n",
    "window_size = 224  # Size of the window (224x224 for ResNet-18)\n",
    "stride = 32        # Stride for sliding the window (adjust as needed)\n",
    "\n",
    "# Transform the image to match the model's input requirements\n",
    "transform = transforms.Compose([\n",
    "    transforms.Resize((256, 256)),\n",
    "    transforms.CenterCrop(224),\n",
    "    transforms.ToTensor(),\n",
    "    transforms.Normalize(mean=[0.485, 0.456, 0.406], std=[0.229, 0.224, 0.225])\n",
    "])\n",
    "\n",
    "image = transform(image).unsqueeze(0)  # Add batch dimension\n"
   ]
  },
  {
   "cell_type": "code",
   "execution_count": 23,
   "id": "8f5dfa89",
   "metadata": {},
   "outputs": [
    {
     "data": {
      "text/plain": [
       "torch.Size([1, 512, 7, 7])"
      ]
     },
     "execution_count": 23,
     "metadata": {},
     "output_type": "execute_result"
    }
   ],
   "source": [
    "image.shape\n",
    "model(image).shape"
   ]
  },
  {
   "cell_type": "code",
   "execution_count": 36,
   "id": "114d8a66",
   "metadata": {},
   "outputs": [
    {
     "data": {
      "text/plain": [
       "torch.Size([512, 512, 3, 3])"
      ]
     },
     "execution_count": 36,
     "metadata": {},
     "output_type": "execute_result"
    }
   ],
   "source": [
    "model[-1][-1].conv2.weight.shape\n",
    "# model"
   ]
  },
  {
   "cell_type": "code",
   "execution_count": 33,
   "id": "eb416d45",
   "metadata": {},
   "outputs": [],
   "source": [
    "# Get the height and width of the feature map\n",
    "height, width = model[-1][-1].conv2.weight.shape[:-2]"
   ]
  },
  {
   "cell_type": "code",
   "execution_count": null,
   "id": "662df0fd",
   "metadata": {},
   "outputs": [],
   "source": [
    "# Initialize a tensor to store the predictions\n",
    "predictions = torch.zeros((1, height, width))\n",
    "\n",
    "# Slide the window over the feature map\n",
    "for i in range(0, height - window_size + 1, stride):\n",
    "    for j in range(0, width - window_size + 1, stride):\n",
    "        # Extract the window from the image\n",
    "        window = image[:, :, i:i+window_size, j:j+window_size]\n",
    "\n",
    "        # Forward pass through the model\n",
    "        with torch.no_grad():\n",
    "            output = model(window)\n",
    "\n",
    "        # Compute the probability of class 1 (human)\n",
    "        probability = torch.softmax(output, dim=1)[:, 1].item()\n",
    "\n",
    "        # Store the probability in the predictions tensor\n",
    "        predictions[:, i:i+window_size, j:j+window_size] = probability\n",
    "\n",
    "# Define a threshold for considering a region as containing a human\n",
    "threshold = 0.5\n",
    "\n",
    "# Create a binary mask where values above the threshold are considered as humans\n",
    "human_mask = (predictions > threshold).float()\n",
    "\n",
    "# You can use post-processing techniques like non-maximum suppression here if needed\n",
    "# to remove redundant or overlapping detections\n",
    "\n",
    "# Visualize the result if desired\n",
    "import matplotlib.pyplot as plt\n",
    "plt.imshow(human_mask.squeeze().numpy(), cmap='gray')\n",
    "plt.show()\n"
   ]
  },
  {
   "cell_type": "code",
   "execution_count": null,
   "id": "05a0b61a",
   "metadata": {},
   "outputs": [],
   "source": []
  },
  {
   "cell_type": "code",
   "execution_count": null,
   "id": "f586caa6",
   "metadata": {},
   "outputs": [],
   "source": []
  },
  {
   "cell_type": "code",
   "execution_count": null,
   "id": "a9548482",
   "metadata": {},
   "outputs": [],
   "source": []
  },
  {
   "cell_type": "markdown",
   "id": "457f36d2",
   "metadata": {},
   "source": [
    "# DEBUG"
   ]
  },
  {
   "cell_type": "code",
   "execution_count": null,
   "id": "a299efe1",
   "metadata": {},
   "outputs": [],
   "source": [
    "import torch\n",
    "import torchvision.models as models\n",
    "\n",
    "# Load the pre-trained ResNet-18 model\n",
    "model = models.resnet18(pretrained=True)\n",
    "model.eval()  # Set the model to evaluation mode"
   ]
  },
  {
   "cell_type": "code",
   "execution_count": 54,
   "id": "d226b762",
   "metadata": {},
   "outputs": [
    {
     "name": "stdout",
     "output_type": "stream",
     "text": [
      "Layer: Prior, Feature Map Size: torch.Size([1, 3, 28, 28])\n",
      "Layer: conv1, Feature Map Size: torch.Size([1, 64, 14, 14])\n",
      "Layer: bn1, Feature Map Size: torch.Size([1, 64, 14, 14])\n",
      "Layer: relu, Feature Map Size: torch.Size([1, 64, 14, 14])\n",
      "Layer: maxpool, Feature Map Size: torch.Size([1, 64, 7, 7])\n",
      "Layer: layer1, Feature Map Size: torch.Size([1, 64, 7, 7])\n",
      "Layer: layer2, Feature Map Size: torch.Size([1, 128, 4, 4])\n",
      "Layer: layer3, Feature Map Size: torch.Size([1, 256, 2, 2])\n",
      "Layer: layer4, Feature Map Size: torch.Size([1, 512, 1, 1])\n",
      "Layer: avgpool, Feature Map Size: torch.Size([1, 512, 1, 1])\n",
      "Layer: Flatten, Feature Map Size: torch.Size([1, 512])\n",
      "Layer: fc, Feature Map Size: torch.Size([1, 1000])\n"
     ]
    }
   ],
   "source": [
    "# Define a sample input image (you should replace this with your image data)\n",
    "input_image = torch.randn(1, 3, 28, 28)  # Batch size of 1, 3 channels (RGB), 224x224 pixels\n",
    "\n",
    "# Pass the input image through the model\n",
    "with torch.no_grad():\n",
    "    x = input_image\n",
    "    print(f\"Layer: Prior, Feature Map Size: {x.size()}\")\n",
    "    for name, layer in model.named_children():\n",
    "        if isinstance(layer, torch.nn.modules.linear.Linear):\n",
    "            x = torch.flatten(x, 1)\n",
    "            print(f\"Layer: Flatten, Feature Map Size: {x.size()}\")\n",
    "        x = layer(x)\n",
    "        print(f\"Layer: {name}, Feature Map Size: {x.size()}\")"
   ]
  },
  {
   "cell_type": "code",
   "execution_count": 63,
   "id": "4d57442a",
   "metadata": {},
   "outputs": [
    {
     "data": {
      "text/plain": [
       "torch.Size([1000, 512])"
      ]
     },
     "execution_count": 63,
     "metadata": {},
     "output_type": "execute_result"
    }
   ],
   "source": [
    "448/28\n",
    "model(input_image).shape\n",
    "layer.weight.shape"
   ]
  },
  {
   "cell_type": "code",
   "execution_count": 53,
   "id": "f75ff011",
   "metadata": {},
   "outputs": [
    {
     "name": "stdout",
     "output_type": "stream",
     "text": [
      "Layer: Prior, Feature Map Size: torch.Size([1, 3, 56, 56])\n",
      "Layer: conv1, Feature Map Size: torch.Size([1, 64, 28, 28])\n",
      "Layer: bn1, Feature Map Size: torch.Size([1, 64, 28, 28])\n",
      "Layer: relu, Feature Map Size: torch.Size([1, 64, 28, 28])\n",
      "Layer: maxpool, Feature Map Size: torch.Size([1, 64, 14, 14])\n",
      "Layer: layer1, Feature Map Size: torch.Size([1, 64, 14, 14])\n",
      "Layer: layer2, Feature Map Size: torch.Size([1, 128, 7, 7])\n",
      "Layer: layer3, Feature Map Size: torch.Size([1, 256, 4, 4])\n",
      "Layer: layer4, Feature Map Size: torch.Size([1, 512, 2, 2])\n",
      "Layer: avgpool, Feature Map Size: torch.Size([1, 512, 1, 1])\n",
      "Layer: Flatten, Feature Map Size: torch.Size([1, 512])\n",
      "Layer: fc, Feature Map Size: torch.Size([1, 1000])\n"
     ]
    }
   ],
   "source": [
    "# Define a sample input image (you should replace this with your image data)\n",
    "input_image = torch.randn(1, 3, 56, 56)  # Batch size of 1, 3 channels (RGB), 224x224 pixels\n",
    "\n",
    "# Pass the input image through the model\n",
    "with torch.no_grad():\n",
    "    x = input_image\n",
    "    print(f\"Layer: Prior, Feature Map Size: {x.size()}\")\n",
    "    for name, layer in model.named_children():\n",
    "        if isinstance(layer, torch.nn.modules.linear.Linear):\n",
    "            x = torch.flatten(x, 1)\n",
    "            print(f\"Layer: Flatten, Feature Map Size: {x.size()}\")\n",
    "        x = layer(x)\n",
    "        print(f\"Layer: {name}, Feature Map Size: {x.size()}\")"
   ]
  },
  {
   "cell_type": "code",
   "execution_count": 52,
   "id": "777fc88a",
   "metadata": {},
   "outputs": [
    {
     "name": "stdout",
     "output_type": "stream",
     "text": [
      "Layer: Prior, Feature Map Size: torch.Size([1, 3, 112, 112])\n",
      "Layer: conv1, Feature Map Size: torch.Size([1, 64, 56, 56])\n",
      "Layer: bn1, Feature Map Size: torch.Size([1, 64, 56, 56])\n",
      "Layer: relu, Feature Map Size: torch.Size([1, 64, 56, 56])\n",
      "Layer: maxpool, Feature Map Size: torch.Size([1, 64, 28, 28])\n",
      "Layer: layer1, Feature Map Size: torch.Size([1, 64, 28, 28])\n",
      "Layer: layer2, Feature Map Size: torch.Size([1, 128, 14, 14])\n",
      "Layer: layer3, Feature Map Size: torch.Size([1, 256, 7, 7])\n",
      "Layer: layer4, Feature Map Size: torch.Size([1, 512, 4, 4])\n",
      "Layer: avgpool, Feature Map Size: torch.Size([1, 512, 1, 1])\n",
      "Layer: Flatten, Feature Map Size: torch.Size([1, 512])\n",
      "Layer: fc, Feature Map Size: torch.Size([1, 1000])\n"
     ]
    }
   ],
   "source": [
    "# Define a sample input image (you should replace this with your image data)\n",
    "input_image = torch.randn(1, 3, 112, 112)  # Batch size of 1, 3 channels (RGB), 224x224 pixels\n",
    "\n",
    "# Pass the input image through the model\n",
    "with torch.no_grad():\n",
    "    x = input_image\n",
    "    print(f\"Layer: Prior, Feature Map Size: {x.size()}\")\n",
    "    for name, layer in model.named_children():\n",
    "        if isinstance(layer, torch.nn.modules.linear.Linear):\n",
    "            x = torch.flatten(x, 1)\n",
    "            print(f\"Layer: Flatten, Feature Map Size: {x.size()}\")\n",
    "        x = layer(x)\n",
    "        print(f\"Layer: {name}, Feature Map Size: {x.size()}\")"
   ]
  },
  {
   "cell_type": "code",
   "execution_count": 51,
   "id": "c9b28215",
   "metadata": {},
   "outputs": [
    {
     "name": "stdout",
     "output_type": "stream",
     "text": [
      "Layer: Prior, Feature Map Size: torch.Size([1, 3, 224, 224])\n",
      "Layer: conv1, Feature Map Size: torch.Size([1, 64, 112, 112])\n",
      "Layer: bn1, Feature Map Size: torch.Size([1, 64, 112, 112])\n",
      "Layer: relu, Feature Map Size: torch.Size([1, 64, 112, 112])\n",
      "Layer: maxpool, Feature Map Size: torch.Size([1, 64, 56, 56])\n",
      "Layer: layer1, Feature Map Size: torch.Size([1, 64, 56, 56])\n",
      "Layer: layer2, Feature Map Size: torch.Size([1, 128, 28, 28])\n",
      "Layer: layer3, Feature Map Size: torch.Size([1, 256, 14, 14])\n",
      "Layer: layer4, Feature Map Size: torch.Size([1, 512, 7, 7])\n",
      "Layer: avgpool, Feature Map Size: torch.Size([1, 512, 1, 1])\n",
      "Layer: Flatten, Feature Map Size: torch.Size([1, 512])\n",
      "Layer: fc, Feature Map Size: torch.Size([1, 1000])\n"
     ]
    }
   ],
   "source": [
    "# Define a sample input image (you should replace this with your image data)\n",
    "input_image = torch.randn(1, 3, 224, 224)  # Batch size of 1, 3 channels (RGB), 224x224 pixels\n",
    "\n",
    "# Pass the input image through the model\n",
    "with torch.no_grad():\n",
    "    x = input_image\n",
    "    print(f\"Layer: Prior, Feature Map Size: {x.size()}\")\n",
    "    for name, layer in model.named_children():\n",
    "        if isinstance(layer, torch.nn.modules.linear.Linear):\n",
    "            x = torch.flatten(x, 1)\n",
    "            print(f\"Layer: Flatten, Feature Map Size: {x.size()}\")\n",
    "        x = layer(x)\n",
    "        print(f\"Layer: {name}, Feature Map Size: {x.size()}\")"
   ]
  },
  {
   "cell_type": "code",
   "execution_count": 50,
   "id": "160e370b",
   "metadata": {},
   "outputs": [
    {
     "name": "stdout",
     "output_type": "stream",
     "text": [
      "Layer: Prior, Feature Map Size: torch.Size([1, 3, 448, 448])\n",
      "Layer: conv1, Feature Map Size: torch.Size([1, 64, 224, 224])\n",
      "Layer: bn1, Feature Map Size: torch.Size([1, 64, 224, 224])\n",
      "Layer: relu, Feature Map Size: torch.Size([1, 64, 224, 224])\n",
      "Layer: maxpool, Feature Map Size: torch.Size([1, 64, 112, 112])\n",
      "Layer: layer1, Feature Map Size: torch.Size([1, 64, 112, 112])\n",
      "Layer: layer2, Feature Map Size: torch.Size([1, 128, 56, 56])\n",
      "Layer: layer3, Feature Map Size: torch.Size([1, 256, 28, 28])\n",
      "Layer: layer4, Feature Map Size: torch.Size([1, 512, 14, 14])\n",
      "Layer: avgpool, Feature Map Size: torch.Size([1, 512, 1, 1])\n",
      "Layer: Flatten, Feature Map Size: torch.Size([1, 512])\n",
      "Layer: fc, Feature Map Size: torch.Size([1, 1000])\n"
     ]
    }
   ],
   "source": [
    "# Define a sample input image (you should replace this with your image data)\n",
    "input_image = torch.randn(1, 3, 448, 448)  # Batch size of 1, 3 channels (RGB), 224x224 pixels\n",
    "\n",
    "# Pass the input image through the model\n",
    "with torch.no_grad():\n",
    "    x = input_image\n",
    "    print(f\"Layer: Prior, Feature Map Size: {x.size()}\")\n",
    "    for name, layer in model.named_children():\n",
    "        if isinstance(layer, torch.nn.modules.linear.Linear):\n",
    "            x = torch.flatten(x, 1)\n",
    "            print(f\"Layer: Flatten, Feature Map Size: {x.size()}\")\n",
    "        x = layer(x)\n",
    "        print(f\"Layer: {name}, Feature Map Size: {x.size()}\")"
   ]
  },
  {
   "cell_type": "code",
   "execution_count": 67,
   "id": "452331c2",
   "metadata": {},
   "outputs": [
    {
     "name": "stdout",
     "output_type": "stream",
     "text": [
      "torch.Size([1, 64, 5, 7])\n",
      "torch.Size([1, 64, 7, 7])\n",
      "torch.Size([1, 64, 10, 7])\n"
     ]
    }
   ],
   "source": [
    "# target output size of 5x7\n",
    "m = nn.AdaptiveAvgPool2d((5, 7))\n",
    "input = torch.randn(1, 64, 8, 9)\n",
    "output = m(input)\n",
    "print(output.shape)\n",
    "\n",
    "# target output size of 7x7 (square)\n",
    "m = nn.AdaptiveAvgPool2d(7)\n",
    "input = torch.randn(1, 64, 10, 9)\n",
    "output = m(input)\n",
    "print(output.shape)\n",
    "\n",
    "\n",
    "# target output size of 10x7\n",
    "m = nn.AdaptiveAvgPool2d((None, 7))\n",
    "input = torch.randn(1, 64, 10, 9)\n",
    "output = m(input)\n",
    "print(output.shape)"
   ]
  }
 ],
 "metadata": {
  "kernelspec": {
   "display_name": "Python 3",
   "language": "python",
   "name": "python3"
  },
  "language_info": {
   "codemirror_mode": {
    "name": "ipython",
    "version": 3
   },
   "file_extension": ".py",
   "mimetype": "text/x-python",
   "name": "python",
   "nbconvert_exporter": "python",
   "pygments_lexer": "ipython3",
   "version": "3.8.3"
  }
 },
 "nbformat": 4,
 "nbformat_minor": 5
}
