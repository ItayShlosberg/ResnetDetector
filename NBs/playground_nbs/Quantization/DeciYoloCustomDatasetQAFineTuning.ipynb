{
 "cells": [
  {
   "cell_type": "markdown",
   "id": "4c0e499d",
   "metadata": {},
   "source": [
    "https://colab.research.google.com/drive/1yHrHkUR1X2u2FjjvNMfUbSXTkUul6o1P?usp=sharing#scrollTo=GtqnnT9mBMWu"
   ]
  },
  {
   "cell_type": "code",
   "execution_count": 3,
   "id": "bae4136f",
   "metadata": {},
   "outputs": [
    {
     "ename": "ModuleNotFoundError",
     "evalue": "No module named 'roboflow'",
     "output_type": "error",
     "traceback": [
      "\u001b[1;31m---------------------------------------------------------------------------\u001b[0m",
      "\u001b[1;31mModuleNotFoundError\u001b[0m                       Traceback (most recent call last)",
      "\u001b[1;32m~\\AppData\\Local\\Temp\\ipykernel_24892\\3194089678.py\u001b[0m in \u001b[0;36m<module>\u001b[1;34m\u001b[0m\n\u001b[1;32m----> 1\u001b[1;33m \u001b[1;32mfrom\u001b[0m \u001b[0mroboflow\u001b[0m \u001b[1;32mimport\u001b[0m \u001b[0mRoboflow\u001b[0m\u001b[1;33m\u001b[0m\u001b[1;33m\u001b[0m\u001b[0m\n\u001b[0m\u001b[0;32m      2\u001b[0m \u001b[0mrf\u001b[0m \u001b[1;33m=\u001b[0m \u001b[0mRoboflow\u001b[0m\u001b[1;33m(\u001b[0m\u001b[0mapi_key\u001b[0m\u001b[1;33m=\u001b[0m\u001b[1;34m\"YOUR_API_KEY\"\u001b[0m\u001b[1;33m)\u001b[0m\u001b[1;33m\u001b[0m\u001b[1;33m\u001b[0m\u001b[0m\n\u001b[0;32m      3\u001b[0m \u001b[0mproject\u001b[0m \u001b[1;33m=\u001b[0m \u001b[0mrf\u001b[0m\u001b[1;33m.\u001b[0m\u001b[0mworkspace\u001b[0m\u001b[1;33m(\u001b[0m\u001b[1;34m\"roboflow-100\"\u001b[0m\u001b[1;33m)\u001b[0m\u001b[1;33m.\u001b[0m\u001b[0mproject\u001b[0m\u001b[1;33m(\u001b[0m\u001b[1;34m\"soccer-players-5fuqs\"\u001b[0m\u001b[1;33m)\u001b[0m\u001b[1;33m\u001b[0m\u001b[1;33m\u001b[0m\u001b[0m\n\u001b[0;32m      4\u001b[0m \u001b[0mdataset\u001b[0m \u001b[1;33m=\u001b[0m \u001b[0mproject\u001b[0m\u001b[1;33m.\u001b[0m\u001b[0mversion\u001b[0m\u001b[1;33m(\u001b[0m\u001b[1;36m2\u001b[0m\u001b[1;33m)\u001b[0m\u001b[1;33m.\u001b[0m\u001b[0mdownload\u001b[0m\u001b[1;33m(\u001b[0m\u001b[1;34m\"coco\"\u001b[0m\u001b[1;33m)\u001b[0m\u001b[1;33m\u001b[0m\u001b[1;33m\u001b[0m\u001b[0m\n",
      "\u001b[1;31mModuleNotFoundError\u001b[0m: No module named 'roboflow'"
     ]
    }
   ],
   "source": [
    "from roboflow import Roboflow\n",
    "rf = Roboflow(api_key=\"YOUR_API_KEY\")\n",
    "project = rf.workspace(\"roboflow-100\").project(\"soccer-players-5fuqs\")\n",
    "dataset = project.version(2).download(\"coco\")"
   ]
  },
  {
   "cell_type": "markdown",
   "id": "ec801e9f",
   "metadata": {},
   "source": [
    "## Step 1: Initialize train and validation dataloaders.\n"
   ]
  },
  {
   "cell_type": "code",
   "execution_count": 4,
   "id": "ecfc79a1",
   "metadata": {},
   "outputs": [
    {
     "ename": "AttributeError",
     "evalue": "module 'numpy' has no attribute 'bool'.\n`np.bool` was a deprecated alias for the builtin `bool`. To avoid this error in existing code, use `bool` by itself. Doing this will not modify any behavior and is safe. If you specifically wanted the numpy scalar type, use `np.bool_` here.\nThe aliases was originally deprecated in NumPy 1.20; for more details and guidance see the original release note at:\n    https://numpy.org/devdocs/release/1.20.0-notes.html#deprecations",
     "output_type": "error",
     "traceback": [
      "\u001b[1;31m---------------------------------------------------------------------------\u001b[0m",
      "\u001b[1;31mAttributeError\u001b[0m                            Traceback (most recent call last)",
      "\u001b[1;32m~\\AppData\\Local\\Temp\\ipykernel_24892\\3257128101.py\u001b[0m in \u001b[0;36m<module>\u001b[1;34m\u001b[0m\n\u001b[1;32m----> 1\u001b[1;33m \u001b[1;32mfrom\u001b[0m \u001b[0msuper_gradients\u001b[0m\u001b[1;33m.\u001b[0m\u001b[0mtraining\u001b[0m\u001b[1;33m.\u001b[0m\u001b[0mdatasets\u001b[0m\u001b[1;33m.\u001b[0m\u001b[0mdetection_datasets\u001b[0m\u001b[1;33m.\u001b[0m\u001b[0mcoco_format_detection\u001b[0m \u001b[1;32mimport\u001b[0m \u001b[0mCOCOFormatDetectionDataset\u001b[0m\u001b[1;33m\u001b[0m\u001b[1;33m\u001b[0m\u001b[0m\n\u001b[0m\u001b[0;32m      2\u001b[0m \u001b[1;32mfrom\u001b[0m \u001b[0msuper_gradients\u001b[0m\u001b[1;33m.\u001b[0m\u001b[0mtraining\u001b[0m\u001b[1;33m.\u001b[0m\u001b[0mtransforms\u001b[0m\u001b[1;33m.\u001b[0m\u001b[0mtransforms\u001b[0m \u001b[1;32mimport\u001b[0m \u001b[0mDetectionMosaic\u001b[0m\u001b[1;33m,\u001b[0m \u001b[0mDetectionRandomAffine\u001b[0m\u001b[1;33m,\u001b[0m \u001b[0mDetectionHSV\u001b[0m\u001b[1;33m,\u001b[0m\u001b[0;31m \u001b[0m\u001b[0;31m\\\u001b[0m\u001b[1;33m\u001b[0m\u001b[1;33m\u001b[0m\u001b[0m\n\u001b[0;32m      3\u001b[0m     \u001b[0mDetectionHorizontalFlip\u001b[0m\u001b[1;33m,\u001b[0m \u001b[0mDetectionPaddedRescale\u001b[0m\u001b[1;33m,\u001b[0m \u001b[0mDetectionStandardize\u001b[0m\u001b[1;33m,\u001b[0m \u001b[0mDetectionTargetsFormatTransform\u001b[0m\u001b[1;33m\u001b[0m\u001b[1;33m\u001b[0m\u001b[0m\n\u001b[0;32m      4\u001b[0m \u001b[1;32mfrom\u001b[0m \u001b[0msuper_gradients\u001b[0m\u001b[1;33m.\u001b[0m\u001b[0mtraining\u001b[0m\u001b[1;33m.\u001b[0m\u001b[0mutils\u001b[0m\u001b[1;33m.\u001b[0m\u001b[0mdetection_utils\u001b[0m \u001b[1;32mimport\u001b[0m \u001b[0mDetectionCollateFN\u001b[0m\u001b[1;33m\u001b[0m\u001b[1;33m\u001b[0m\u001b[0m\n\u001b[0;32m      5\u001b[0m \u001b[1;32mfrom\u001b[0m \u001b[0msuper_gradients\u001b[0m\u001b[1;33m.\u001b[0m\u001b[0mtraining\u001b[0m \u001b[1;32mimport\u001b[0m \u001b[0mdataloaders\u001b[0m\u001b[1;33m\u001b[0m\u001b[1;33m\u001b[0m\u001b[0m\n",
      "\u001b[1;32m~\\AppData\\Roaming\\Python\\Python39\\site-packages\\super_gradients\\__init__.py\u001b[0m in \u001b[0;36m<module>\u001b[1;34m\u001b[0m\n\u001b[0;32m      2\u001b[0m \u001b[1;33m\u001b[0m\u001b[0m\n\u001b[0;32m      3\u001b[0m \u001b[1;32mfrom\u001b[0m \u001b[0msuper_gradients\u001b[0m\u001b[1;33m.\u001b[0m\u001b[0mcommon\u001b[0m \u001b[1;32mimport\u001b[0m \u001b[0minit_trainer\u001b[0m\u001b[1;33m,\u001b[0m \u001b[0mis_distributed\u001b[0m\u001b[1;33m,\u001b[0m \u001b[0mobject_names\u001b[0m\u001b[1;33m\u001b[0m\u001b[1;33m\u001b[0m\u001b[0m\n\u001b[1;32m----> 4\u001b[1;33m \u001b[1;32mfrom\u001b[0m \u001b[0msuper_gradients\u001b[0m\u001b[1;33m.\u001b[0m\u001b[0mtraining\u001b[0m \u001b[1;32mimport\u001b[0m \u001b[0mlosses\u001b[0m\u001b[1;33m,\u001b[0m \u001b[0mutils\u001b[0m\u001b[1;33m,\u001b[0m \u001b[0mdatasets_utils\u001b[0m\u001b[1;33m,\u001b[0m \u001b[0mDataAugmentation\u001b[0m\u001b[1;33m,\u001b[0m \u001b[0mTrainer\u001b[0m\u001b[1;33m,\u001b[0m \u001b[0mKDTrainer\u001b[0m\u001b[1;33m,\u001b[0m \u001b[0mQATTrainer\u001b[0m\u001b[1;33m\u001b[0m\u001b[1;33m\u001b[0m\u001b[0m\n\u001b[0m\u001b[0;32m      5\u001b[0m \u001b[1;32mfrom\u001b[0m \u001b[0msuper_gradients\u001b[0m\u001b[1;33m.\u001b[0m\u001b[0mcommon\u001b[0m\u001b[1;33m.\u001b[0m\u001b[0mregistry\u001b[0m\u001b[1;33m.\u001b[0m\u001b[0mregistry\u001b[0m \u001b[1;32mimport\u001b[0m \u001b[0mARCHITECTURES\u001b[0m\u001b[1;33m\u001b[0m\u001b[1;33m\u001b[0m\u001b[0m\n\u001b[0;32m      6\u001b[0m \u001b[1;32mfrom\u001b[0m \u001b[0msuper_gradients\u001b[0m\u001b[1;33m.\u001b[0m\u001b[0msanity_check\u001b[0m \u001b[1;32mimport\u001b[0m \u001b[0menv_sanity_check\u001b[0m\u001b[1;33m\u001b[0m\u001b[1;33m\u001b[0m\u001b[0m\n",
      "\u001b[1;32m~\\AppData\\Roaming\\Python\\Python39\\site-packages\\super_gradients\\training\\__init__.py\u001b[0m in \u001b[0;36m<module>\u001b[1;34m\u001b[0m\n\u001b[0;32m      1\u001b[0m \u001b[1;31m# PACKAGE IMPORTS FOR EXTERNAL USAGE\u001b[0m\u001b[1;33m\u001b[0m\u001b[1;33m\u001b[0m\u001b[0m\n\u001b[1;32m----> 2\u001b[1;33m \u001b[1;32mimport\u001b[0m \u001b[0msuper_gradients\u001b[0m\u001b[1;33m.\u001b[0m\u001b[0mtraining\u001b[0m\u001b[1;33m.\u001b[0m\u001b[0mutils\u001b[0m\u001b[1;33m.\u001b[0m\u001b[0mdistributed_training_utils\u001b[0m \u001b[1;32mas\u001b[0m \u001b[0mdistributed_training_utils\u001b[0m\u001b[1;33m\u001b[0m\u001b[1;33m\u001b[0m\u001b[0m\n\u001b[0m\u001b[0;32m      3\u001b[0m \u001b[1;32mfrom\u001b[0m \u001b[0msuper_gradients\u001b[0m\u001b[1;33m.\u001b[0m\u001b[0mcommon\u001b[0m \u001b[1;32mimport\u001b[0m \u001b[0mMultiGPUMode\u001b[0m\u001b[1;33m,\u001b[0m \u001b[0mStrictLoad\u001b[0m\u001b[1;33m,\u001b[0m \u001b[0mEvaluationType\u001b[0m\u001b[1;33m\u001b[0m\u001b[1;33m\u001b[0m\u001b[0m\n\u001b[0;32m      4\u001b[0m \u001b[1;32mfrom\u001b[0m \u001b[0msuper_gradients\u001b[0m\u001b[1;33m.\u001b[0m\u001b[0mtraining\u001b[0m\u001b[1;33m.\u001b[0m\u001b[0mdatasets\u001b[0m \u001b[1;32mimport\u001b[0m \u001b[0mdatasets_utils\u001b[0m\u001b[1;33m,\u001b[0m \u001b[0mDataAugmentation\u001b[0m\u001b[1;33m\u001b[0m\u001b[1;33m\u001b[0m\u001b[0m\n\u001b[0;32m      5\u001b[0m \u001b[1;32mfrom\u001b[0m \u001b[0msuper_gradients\u001b[0m\u001b[1;33m.\u001b[0m\u001b[0mtraining\u001b[0m\u001b[1;33m.\u001b[0m\u001b[0mpre_launch_callbacks\u001b[0m \u001b[1;32mimport\u001b[0m \u001b[0mmodify_params_for_qat\u001b[0m\u001b[1;33m\u001b[0m\u001b[1;33m\u001b[0m\u001b[0m\n",
      "\u001b[1;32m~\\AppData\\Roaming\\Python\\Python39\\site-packages\\super_gradients\\training\\utils\\__init__.py\u001b[0m in \u001b[0;36m<module>\u001b[1;34m\u001b[0m\n\u001b[0;32m      8\u001b[0m     \u001b[0mmake_divisible\u001b[0m\u001b[1;33m,\u001b[0m\u001b[1;33m\u001b[0m\u001b[1;33m\u001b[0m\u001b[0m\n\u001b[0;32m      9\u001b[0m )\n\u001b[1;32m---> 10\u001b[1;33m \u001b[1;32mfrom\u001b[0m \u001b[0msuper_gradients\u001b[0m\u001b[1;33m.\u001b[0m\u001b[0mtraining\u001b[0m\u001b[1;33m.\u001b[0m\u001b[0mutils\u001b[0m\u001b[1;33m.\u001b[0m\u001b[0mcheckpoint_utils\u001b[0m \u001b[1;32mimport\u001b[0m \u001b[0madapt_state_dict_to_fit_model_layer_names\u001b[0m\u001b[1;33m,\u001b[0m \u001b[0mraise_informative_runtime_error\u001b[0m\u001b[1;33m\u001b[0m\u001b[1;33m\u001b[0m\u001b[0m\n\u001b[0m\u001b[0;32m     11\u001b[0m \u001b[1;32mfrom\u001b[0m \u001b[0msuper_gradients\u001b[0m\u001b[1;33m.\u001b[0m\u001b[0mtraining\u001b[0m\u001b[1;33m.\u001b[0m\u001b[0mutils\u001b[0m\u001b[1;33m.\u001b[0m\u001b[0mversion_utils\u001b[0m \u001b[1;32mimport\u001b[0m \u001b[0mtorch_version_is_greater_or_equal\u001b[0m\u001b[1;33m\u001b[0m\u001b[1;33m\u001b[0m\u001b[0m\n\u001b[0;32m     12\u001b[0m \u001b[1;32mfrom\u001b[0m \u001b[0msuper_gradients\u001b[0m\u001b[1;33m.\u001b[0m\u001b[0mtraining\u001b[0m\u001b[1;33m.\u001b[0m\u001b[0mutils\u001b[0m\u001b[1;33m.\u001b[0m\u001b[0mconfig_utils\u001b[0m \u001b[1;32mimport\u001b[0m \u001b[0mraise_if_unused_params\u001b[0m\u001b[1;33m,\u001b[0m \u001b[0mwarn_if_unused_params\u001b[0m\u001b[1;33m\u001b[0m\u001b[1;33m\u001b[0m\u001b[0m\n",
      "\u001b[1;32m~\\AppData\\Roaming\\Python\\Python39\\site-packages\\super_gradients\\training\\utils\\checkpoint_utils.py\u001b[0m in \u001b[0;36m<module>\u001b[1;34m\u001b[0m\n\u001b[0;32m     12\u001b[0m \u001b[1;32mfrom\u001b[0m \u001b[0msuper_gradients\u001b[0m\u001b[1;33m.\u001b[0m\u001b[0mcommon\u001b[0m\u001b[1;33m.\u001b[0m\u001b[0mdata_types\u001b[0m \u001b[1;32mimport\u001b[0m \u001b[0mStrictLoad\u001b[0m\u001b[1;33m\u001b[0m\u001b[1;33m\u001b[0m\u001b[0m\n\u001b[0;32m     13\u001b[0m \u001b[1;32mfrom\u001b[0m \u001b[0msuper_gradients\u001b[0m\u001b[1;33m.\u001b[0m\u001b[0mcommon\u001b[0m\u001b[1;33m.\u001b[0m\u001b[0mdecorators\u001b[0m\u001b[1;33m.\u001b[0m\u001b[0mexplicit_params_validator\u001b[0m \u001b[1;32mimport\u001b[0m \u001b[0mexplicit_params_validation\u001b[0m\u001b[1;33m\u001b[0m\u001b[1;33m\u001b[0m\u001b[0m\n\u001b[1;32m---> 14\u001b[1;33m \u001b[1;32mfrom\u001b[0m \u001b[0msuper_gradients\u001b[0m\u001b[1;33m.\u001b[0m\u001b[0mmodule_interfaces\u001b[0m \u001b[1;32mimport\u001b[0m \u001b[0mHasPredict\u001b[0m\u001b[1;33m\u001b[0m\u001b[1;33m\u001b[0m\u001b[0m\n\u001b[0m\u001b[0;32m     15\u001b[0m \u001b[1;32mfrom\u001b[0m \u001b[0msuper_gradients\u001b[0m\u001b[1;33m.\u001b[0m\u001b[0mtraining\u001b[0m\u001b[1;33m.\u001b[0m\u001b[0mpretrained_models\u001b[0m \u001b[1;32mimport\u001b[0m \u001b[0mMODEL_URLS\u001b[0m\u001b[1;33m\u001b[0m\u001b[1;33m\u001b[0m\u001b[0m\n\u001b[0;32m     16\u001b[0m \u001b[1;32mfrom\u001b[0m \u001b[0msuper_gradients\u001b[0m\u001b[1;33m.\u001b[0m\u001b[0mtraining\u001b[0m\u001b[1;33m.\u001b[0m\u001b[0mutils\u001b[0m\u001b[1;33m.\u001b[0m\u001b[0mdistributed_training_utils\u001b[0m \u001b[1;32mimport\u001b[0m \u001b[0mwait_for_the_master\u001b[0m\u001b[1;33m\u001b[0m\u001b[1;33m\u001b[0m\u001b[0m\n",
      "\u001b[1;32m~\\AppData\\Roaming\\Python\\Python39\\site-packages\\super_gradients\\module_interfaces\\__init__.py\u001b[0m in \u001b[0;36m<module>\u001b[1;34m\u001b[0m\n\u001b[0;32m      2\u001b[0m \u001b[1;32mfrom\u001b[0m \u001b[1;33m.\u001b[0m\u001b[0mexceptions\u001b[0m \u001b[1;32mimport\u001b[0m \u001b[0mModelHasNoPreprocessingParamsException\u001b[0m\u001b[1;33m\u001b[0m\u001b[1;33m\u001b[0m\u001b[0m\n\u001b[0;32m      3\u001b[0m \u001b[1;32mfrom\u001b[0m \u001b[1;33m.\u001b[0m\u001b[0mexportable_detector\u001b[0m \u001b[1;32mimport\u001b[0m \u001b[0mExportableObjectDetectionModel\u001b[0m\u001b[1;33m,\u001b[0m \u001b[0mAbstractObjectDetectionDecodingModule\u001b[0m\u001b[1;33m\u001b[0m\u001b[1;33m\u001b[0m\u001b[0m\n\u001b[1;32m----> 4\u001b[1;33m \u001b[1;32mfrom\u001b[0m \u001b[1;33m.\u001b[0m\u001b[0mexportable_pose_estimation\u001b[0m \u001b[1;32mimport\u001b[0m \u001b[0mExportablePoseEstimationModel\u001b[0m\u001b[1;33m,\u001b[0m \u001b[0mPoseEstimationModelExportResult\u001b[0m\u001b[1;33m,\u001b[0m \u001b[0mAbstractPoseEstimationDecodingModule\u001b[0m\u001b[1;33m\u001b[0m\u001b[1;33m\u001b[0m\u001b[0m\n\u001b[0m\u001b[0;32m      5\u001b[0m \u001b[1;32mfrom\u001b[0m \u001b[1;33m.\u001b[0m\u001b[0mpose_estimation_post_prediction_callback\u001b[0m \u001b[1;32mimport\u001b[0m \u001b[0mAbstractPoseEstimationPostPredictionCallback\u001b[0m\u001b[1;33m,\u001b[0m \u001b[0mPoseEstimationPredictions\u001b[0m\u001b[1;33m\u001b[0m\u001b[1;33m\u001b[0m\u001b[0m\n\u001b[0;32m      6\u001b[0m \u001b[1;33m\u001b[0m\u001b[0m\n",
      "\u001b[1;32m~\\AppData\\Roaming\\Python\\Python39\\site-packages\\super_gradients\\module_interfaces\\exportable_pose_estimation.py\u001b[0m in \u001b[0;36m<module>\u001b[1;34m\u001b[0m\n\u001b[0;32m     16\u001b[0m \u001b[1;32mfrom\u001b[0m \u001b[0msuper_gradients\u001b[0m\u001b[1;33m.\u001b[0m\u001b[0mconversion\u001b[0m\u001b[1;33m.\u001b[0m\u001b[0mgs_utils\u001b[0m \u001b[1;32mimport\u001b[0m \u001b[0mimport_onnx_graphsurgeon_or_install\u001b[0m\u001b[1;33m\u001b[0m\u001b[1;33m\u001b[0m\u001b[0m\n\u001b[0;32m     17\u001b[0m \u001b[1;32mfrom\u001b[0m \u001b[0msuper_gradients\u001b[0m\u001b[1;33m.\u001b[0m\u001b[0mmodule_interfaces\u001b[0m\u001b[1;33m.\u001b[0m\u001b[0mexceptions\u001b[0m \u001b[1;32mimport\u001b[0m \u001b[0mModelHasNoPreprocessingParamsException\u001b[0m\u001b[1;33m\u001b[0m\u001b[1;33m\u001b[0m\u001b[0m\n\u001b[1;32m---> 18\u001b[1;33m \u001b[1;32mfrom\u001b[0m \u001b[0msuper_gradients\u001b[0m\u001b[1;33m.\u001b[0m\u001b[0mmodule_interfaces\u001b[0m\u001b[1;33m.\u001b[0m\u001b[0musage_instructions\u001b[0m \u001b[1;32mimport\u001b[0m \u001b[0mbuild_usage_instructions_for_pose_estimation\u001b[0m\u001b[1;33m\u001b[0m\u001b[1;33m\u001b[0m\u001b[0m\n\u001b[0m\u001b[0;32m     19\u001b[0m \u001b[1;32mfrom\u001b[0m \u001b[0msuper_gradients\u001b[0m\u001b[1;33m.\u001b[0m\u001b[0mtraining\u001b[0m\u001b[1;33m.\u001b[0m\u001b[0mutils\u001b[0m\u001b[1;33m.\u001b[0m\u001b[0mexport_utils\u001b[0m \u001b[1;32mimport\u001b[0m \u001b[0minfer_format_from_file_name\u001b[0m\u001b[1;33m,\u001b[0m \u001b[0minfer_image_shape_from_model\u001b[0m\u001b[1;33m,\u001b[0m \u001b[0minfer_image_input_channels\u001b[0m\u001b[1;33m\u001b[0m\u001b[1;33m\u001b[0m\u001b[0m\n\u001b[0;32m     20\u001b[0m \u001b[1;32mfrom\u001b[0m \u001b[0msuper_gradients\u001b[0m\u001b[1;33m.\u001b[0m\u001b[0mtraining\u001b[0m\u001b[1;33m.\u001b[0m\u001b[0mutils\u001b[0m\u001b[1;33m.\u001b[0m\u001b[0mquantization\u001b[0m\u001b[1;33m.\u001b[0m\u001b[0mfix_pytorch_quantization_modules\u001b[0m \u001b[1;32mimport\u001b[0m \u001b[0mpatch_pytorch_quantization_modules_if_needed\u001b[0m\u001b[1;33m\u001b[0m\u001b[1;33m\u001b[0m\u001b[0m\n",
      "\u001b[1;32m~\\AppData\\Roaming\\Python\\Python39\\site-packages\\super_gradients\\module_interfaces\\usage_instructions.py\u001b[0m in \u001b[0;36m<module>\u001b[1;34m\u001b[0m\n\u001b[0;32m      2\u001b[0m \u001b[1;32mfrom\u001b[0m \u001b[0mtorch\u001b[0m \u001b[1;32mimport\u001b[0m \u001b[0mnn\u001b[0m\u001b[1;33m\u001b[0m\u001b[1;33m\u001b[0m\u001b[0m\n\u001b[0;32m      3\u001b[0m \u001b[1;33m\u001b[0m\u001b[0m\n\u001b[1;32m----> 4\u001b[1;33m \u001b[1;32mfrom\u001b[0m \u001b[0msuper_gradients\u001b[0m\u001b[1;33m.\u001b[0m\u001b[0mconversion\u001b[0m\u001b[1;33m.\u001b[0m\u001b[0mconversion_utils\u001b[0m \u001b[1;32mimport\u001b[0m \u001b[0mtorch_dtype_to_numpy_dtype\u001b[0m\u001b[1;33m\u001b[0m\u001b[1;33m\u001b[0m\u001b[0m\n\u001b[0m\u001b[0;32m      5\u001b[0m \u001b[1;32mfrom\u001b[0m \u001b[0msuper_gradients\u001b[0m\u001b[1;33m.\u001b[0m\u001b[0mconversion\u001b[0m\u001b[1;33m.\u001b[0m\u001b[0mconversion_enums\u001b[0m \u001b[1;32mimport\u001b[0m \u001b[0mExportTargetBackend\u001b[0m\u001b[1;33m,\u001b[0m \u001b[0mExportQuantizationMode\u001b[0m\u001b[1;33m,\u001b[0m \u001b[0mDetectionOutputFormatMode\u001b[0m\u001b[1;33m\u001b[0m\u001b[1;33m\u001b[0m\u001b[0m\n\u001b[0;32m      6\u001b[0m \u001b[1;33m\u001b[0m\u001b[0m\n",
      "\u001b[1;32m~\\AppData\\Roaming\\Python\\Python39\\site-packages\\super_gradients\\conversion\\conversion_utils.py\u001b[0m in \u001b[0;36m<module>\u001b[1;34m\u001b[0m\n\u001b[0;32m     13\u001b[0m     \u001b[1;33m(\u001b[0m\u001b[0mtorch\u001b[0m\u001b[1;33m.\u001b[0m\u001b[0mint8\u001b[0m\u001b[1;33m,\u001b[0m \u001b[0mnp\u001b[0m\u001b[1;33m.\u001b[0m\u001b[0mint8\u001b[0m\u001b[1;33m)\u001b[0m\u001b[1;33m,\u001b[0m\u001b[1;33m\u001b[0m\u001b[1;33m\u001b[0m\u001b[0m\n\u001b[0;32m     14\u001b[0m     \u001b[1;33m(\u001b[0m\u001b[0mtorch\u001b[0m\u001b[1;33m.\u001b[0m\u001b[0muint8\u001b[0m\u001b[1;33m,\u001b[0m \u001b[0mnp\u001b[0m\u001b[1;33m.\u001b[0m\u001b[0muint8\u001b[0m\u001b[1;33m)\u001b[0m\u001b[1;33m,\u001b[0m\u001b[1;33m\u001b[0m\u001b[1;33m\u001b[0m\u001b[0m\n\u001b[1;32m---> 15\u001b[1;33m     \u001b[1;33m(\u001b[0m\u001b[0mtorch\u001b[0m\u001b[1;33m.\u001b[0m\u001b[0mbool\u001b[0m\u001b[1;33m,\u001b[0m \u001b[0mnp\u001b[0m\u001b[1;33m.\u001b[0m\u001b[0mbool\u001b[0m\u001b[1;33m)\u001b[0m\u001b[1;33m,\u001b[0m\u001b[1;33m\u001b[0m\u001b[1;33m\u001b[0m\u001b[0m\n\u001b[0m\u001b[0;32m     16\u001b[0m ]\n\u001b[0;32m     17\u001b[0m \u001b[1;33m\u001b[0m\u001b[0m\n",
      "\u001b[1;32m~\\AppData\\Roaming\\Python\\Python39\\site-packages\\numpy\\__init__.py\u001b[0m in \u001b[0;36m__getattr__\u001b[1;34m(attr)\u001b[0m\n\u001b[0;32m    303\u001b[0m \u001b[1;33m\u001b[0m\u001b[0m\n\u001b[0;32m    304\u001b[0m         \u001b[1;32mif\u001b[0m \u001b[0mattr\u001b[0m \u001b[1;32min\u001b[0m \u001b[0m__former_attrs__\u001b[0m\u001b[1;33m:\u001b[0m\u001b[1;33m\u001b[0m\u001b[1;33m\u001b[0m\u001b[0m\n\u001b[1;32m--> 305\u001b[1;33m             \u001b[1;32mraise\u001b[0m \u001b[0mAttributeError\u001b[0m\u001b[1;33m(\u001b[0m\u001b[0m__former_attrs__\u001b[0m\u001b[1;33m[\u001b[0m\u001b[0mattr\u001b[0m\u001b[1;33m]\u001b[0m\u001b[1;33m)\u001b[0m\u001b[1;33m\u001b[0m\u001b[1;33m\u001b[0m\u001b[0m\n\u001b[0m\u001b[0;32m    306\u001b[0m \u001b[1;33m\u001b[0m\u001b[0m\n\u001b[0;32m    307\u001b[0m         \u001b[1;31m# Importing Tester requires importing all of UnitTest which is not a\u001b[0m\u001b[1;33m\u001b[0m\u001b[1;33m\u001b[0m\u001b[0m\n",
      "\u001b[1;31mAttributeError\u001b[0m: module 'numpy' has no attribute 'bool'.\n`np.bool` was a deprecated alias for the builtin `bool`. To avoid this error in existing code, use `bool` by itself. Doing this will not modify any behavior and is safe. If you specifically wanted the numpy scalar type, use `np.bool_` here.\nThe aliases was originally deprecated in NumPy 1.20; for more details and guidance see the original release note at:\n    https://numpy.org/devdocs/release/1.20.0-notes.html#deprecations"
     ]
    }
   ],
   "source": [
    "from super_gradients.training.datasets.detection_datasets.coco_format_detection import COCOFormatDetectionDataset\n",
    "from super_gradients.training.transforms.transforms import DetectionMosaic, DetectionRandomAffine, DetectionHSV, \\\n",
    "    DetectionHorizontalFlip, DetectionPaddedRescale, DetectionStandardize, DetectionTargetsFormatTransform\n",
    "from super_gradients.training.utils.detection_utils import DetectionCollateFN\n",
    "from super_gradients.training import dataloaders\n",
    "from super_gradients.training.datasets.datasets_utils import worker_init_reset_seed\n",
    "\n",
    "\n",
    "trainset = COCOFormatDetectionDataset(data_dir=\"/content/soccer-players-2/\",\n",
    "                                      images_dir=\"train\",\n",
    "                                      json_annotation_file=\"train/_annotations.coco.json\",\n",
    "                                      input_dim=(640, 640),\n",
    "                                      ignore_empty_annotations=False,\n",
    "                                      transforms=[\n",
    "                                          DetectionMosaic(prob=1., input_dim=(640, 640)),\n",
    "                                          DetectionRandomAffine(degrees=0., scales=(0.5, 1.5), shear=0.,\n",
    "                                                                target_size=(640, 640),\n",
    "                                                                filter_box_candidates=False, border_value=128),\n",
    "                                          DetectionHSV(prob=1., hgain=5, vgain=30, sgain=30),\n",
    "                                          DetectionHorizontalFlip(prob=0.5),\n",
    "                                          DetectionPaddedRescale(input_dim=(640, 640), max_targets=300),\n",
    "                                          DetectionStandardize(max_value=255),\n",
    "                                          DetectionTargetsFormatTransform(max_targets=300, input_dim=(640, 640),\n",
    "                                                                          output_format=\"LABEL_CXCYWH\")\n",
    "                                      ])\n",
    "\n",
    "\n",
    "valset = COCOFormatDetectionDataset(data_dir=\"/content/soccer-players-2/\",\n",
    "                                    images_dir=\"valid\",\n",
    "                                    json_annotation_file=\"valid/_annotations.coco.json\",\n",
    "                                    input_dim=(640, 640),\n",
    "                                    ignore_empty_annotations=False,\n",
    "                                    transforms=[\n",
    "                                        DetectionPaddedRescale(input_dim=(640, 640), max_targets=300),\n",
    "                                        DetectionStandardize(max_value=255),\n",
    "                                        DetectionTargetsFormatTransform(max_targets=300, input_dim=(640, 640),\n",
    "                                                                        output_format=\"LABEL_CXCYWH\")\n",
    "                                    ])\n",
    "\n",
    "train_loader = dataloaders.get(dataset=trainset, dataloader_params={\n",
    "    \"shuffle\": True,\n",
    "    \"batch_size\": 16,\n",
    "    \"drop_last\": False,\n",
    "    \"pin_memory\": True,\n",
    "    \"collate_fn\": DetectionCollateFN(),\n",
    "    \"worker_init_fn\": worker_init_reset_seed,\n",
    "    \"min_samples\": 512\n",
    "})\n",
    "\n",
    "valid_loader = dataloaders.get(dataset=valset, dataloader_params={\n",
    "    \"shuffle\": False,\n",
    "    \"batch_size\": 32,\n",
    "    \"num_workers\": 2,\n",
    "    \"drop_last\": False,\n",
    "    \"pin_memory\": True,\n",
    "    \"collate_fn\": DetectionCollateFN(),\n",
    "    \"worker_init_fn\": worker_init_reset_seed\n",
    "})\n",
    "\n"
   ]
  },
  {
   "cell_type": "markdown",
   "id": "27bc9381",
   "metadata": {},
   "source": [
    "# Step 2: Defining training hyperparameters"
   ]
  },
  {
   "cell_type": "code",
   "execution_count": null,
   "id": "8d11a073",
   "metadata": {},
   "outputs": [],
   "source": [
    "from super_gradients.training.losses import PPYoloELoss\n",
    "from super_gradients.training.metrics import DetectionMetrics_050\n",
    "from super_gradients.training.models.detection_models.pp_yolo_e import PPYoloEPostPredictionCallback\n",
    "\n",
    "train_params = {\n",
    "    \"warmup_initial_lr\": 1e-6,\n",
    "    \"initial_lr\": 5e-4,\n",
    "    \"lr_mode\": \"cosine\",\n",
    "    \"cosine_final_lr_ratio\": 0.1,\n",
    "    \"optimizer\": \"AdamW\",\n",
    "    \"zero_weight_decay_on_bias_and_bn\": True,\n",
    "    \"lr_warmup_epochs\": 3,\n",
    "    \"warmup_mode\": \"linear_epoch_step\",\n",
    "    \"optimizer_params\": {\"weight_decay\": 0.0001},\n",
    "    \"ema\": True,\n",
    "    \"ema_params\": {\"decay\": 0.9, \"decay_type\": \"threshold\"},\n",
    "    \"max_epochs\": 10,\n",
    "    \"mixed_precision\": True,\n",
    "    \"loss\": PPYoloELoss(use_static_assigner=False, num_classes=4, reg_max=16),\n",
    "    \"valid_metrics_list\": [\n",
    "        DetectionMetrics_050(score_thres=0.1, top_k_predictions=300, num_cls=4, normalize_targets=True,\n",
    "                             post_prediction_callback=PPYoloEPostPredictionCallback(score_threshold=0.01,\n",
    "                                                                                    nms_top_k=1000, max_predictions=300,\n",
    "                                                                                    nms_threshold=0.7))],\n",
    "\n",
    "    \"metric_to_watch\": 'mAP@0.50'}"
   ]
  },
  {
   "cell_type": "markdown",
   "id": "afd0a47b",
   "metadata": {},
   "source": [
    "# Step 3: Instantiate a pre-trained YoloNAS_S and launch training"
   ]
  },
  {
   "cell_type": "code",
   "execution_count": null,
   "id": "b952dcc0",
   "metadata": {},
   "outputs": [],
   "source": [
    "from super_gradients.training import Trainer\n",
    "from super_gradients.common.object_names import Models\n",
    "from super_gradients.training import models\n",
    "from super_gradients.training.processing import ComposeProcessing\n",
    "\n",
    "trainer = Trainer(experiment_name=\"yolo_nas_s_soccer_players\", ckpt_root_dir=\"/content/sg_checkpoints_dir/\")\n",
    "net = models.get(Models.YOLO_NAS_S, num_classes=4, pretrained_weights=\"coco\")\n",
    "trainer.train(model=net, training_params=train_params, train_loader=train_loader, valid_loader=valid_loader)"
   ]
  },
  {
   "cell_type": "markdown",
   "id": "5f9015fa",
   "metadata": {},
   "source": [
    "# Step 4: Run prediction on a real world input."
   ]
  },
  {
   "cell_type": "code",
   "execution_count": null,
   "id": "59a2f8dc",
   "metadata": {},
   "outputs": [],
   "source": [
    "import os\n",
    "net = models.get(Models.YOLO_NAS_S, num_classes=4, checkpoint_path=os.path.join(trainer.checkpoints_dir_path, \"ckpt_best.pth\"))\n",
    "prediction = net.predict(\"http://www.runofplay.com/blog/wp-content/uploads/2011/02/nearside.jpg\", fuse_model=False)\n",
    "\n",
    "prediction.show()"
   ]
  },
  {
   "cell_type": "markdown",
   "id": "e49627f0",
   "metadata": {},
   "source": [
    "# Launch quantization-aware training"
   ]
  },
  {
   "cell_type": "code",
   "execution_count": null,
   "id": "01af4ea8",
   "metadata": {},
   "outputs": [],
   "source": [
    "import os\n",
    "from super_gradients.training import Trainer\n",
    "from super_gradients.common.object_names import Models\n",
    "from super_gradients.training import models\n",
    "from super_gradients.training.losses import PPYoloELoss\n",
    "from super_gradients.training.metrics import DetectionMetrics_050\n",
    "from super_gradients.training.models.detection_models.pp_yolo_e import PPYoloEPostPredictionCallback\n",
    "from super_gradients.training.datasets.detection_datasets.coco_format_detection import COCOFormatDetectionDataset\n",
    "from super_gradients.training.transforms.transforms import DetectionMosaic, DetectionRandomAffine, DetectionHSV, \\\n",
    "    DetectionHorizontalFlip, DetectionPaddedRescale, DetectionStandardize, DetectionTargetsFormatTransform\n",
    "from super_gradients.training.utils.detection_utils import DetectionCollateFN\n",
    "from super_gradients.training.pre_launch_callbacks import modify_params_for_qat\n",
    "from super_gradients.training.datasets.datasets_utils import worker_init_reset_seed\n"
   ]
  },
  {
   "cell_type": "code",
   "execution_count": null,
   "id": "d8e7b660",
   "metadata": {},
   "outputs": [],
   "source": [
    "\n",
    "trainer = Trainer(experiment_name=\"yolo_nas_s_soccer_players\", ckpt_root_dir=\"/content/sg_checkpoints_dir/\")\n",
    "\n",
    "net = models.get(Models.YOLO_NAS_S, num_classes=4, checkpoint_path=os.path.join(trainer.checkpoints_dir_path, \"ckpt_best.pth\"))\n",
    "\n",
    "train_dataset_params = COCOFormatDetectionDataset(data_dir=\"/content/soccer-players-2/\",\n",
    "                                                  images_dir=\"train\",\n",
    "                                                  json_annotation_file=\"train/_annotations.coco.json\",\n",
    "                                                  input_dim=(640, 640),\n",
    "                                                  ignore_empty_annotations=False,\n",
    "                                                  transforms=[\n",
    "                                                      DetectionMosaic(prob=1., input_dim=(640, 640)),\n",
    "                                                      DetectionRandomAffine(degrees=0., scales=(0.5, 1.5), shear=0.,\n",
    "                                                                            target_size=(640, 640),\n",
    "                                                                            filter_box_candidates=False,\n",
    "                                                                            border_value=128),\n",
    "                                                      DetectionHSV(prob=1., hgain=5, vgain=30, sgain=30),\n",
    "                                                      DetectionHorizontalFlip(prob=0.5),\n",
    "                                                      DetectionPaddedRescale(input_dim=(640, 640), max_targets=300),\n",
    "                                                      DetectionStandardize(max_value=255),\n",
    "                                                      DetectionTargetsFormatTransform(max_targets=300,\n",
    "                                                                                      input_dim=(640, 640),\n",
    "                                                                                      output_format=\"LABEL_CXCYWH\")\n",
    "                                                  ])\n",
    "\n",
    "val_dataset_params = COCOFormatDetectionDataset(data_dir=\"/content/soccer-players-2/\",\n",
    "                                                images_dir=\"valid\",\n",
    "                                                json_annotation_file=\"valid/_annotations.coco.json\",\n",
    "                                                input_dim=(640, 640),\n",
    "                                                ignore_empty_annotations=False,\n",
    "                                                transforms=[\n",
    "                                                    DetectionPaddedRescale(input_dim=(640, 640), max_targets=300),\n",
    "                                                    DetectionStandardize(max_value=255),\n",
    "                                                    DetectionTargetsFormatTransform(max_targets=300,\n",
    "                                                                                    input_dim=(640, 640),\n",
    "                                                                                    output_format=\"LABEL_CXCYWH\")\n",
    "                                                ])\n",
    "\n",
    "train_dataloader_params = {\n",
    "    \"shuffle\": True,\n",
    "    \"batch_size\": 16,\n",
    "    \"drop_last\": False,\n",
    "    \"pin_memory\": True,\n",
    "    \"collate_fn\": DetectionCollateFN(),\n",
    "    \"worker_init_fn\": worker_init_reset_seed,\n",
    "    \"min_samples\": 512\n",
    "}\n",
    "\n",
    "val_dataloader_params = {\n",
    "    \"shuffle\": False,\n",
    "    \"batch_size\": 32,\n",
    "    \"num_workers\": 2,\n",
    "    \"drop_last\": False,\n",
    "    \"pin_memory\": True,\n",
    "    \"collate_fn\": DetectionCollateFN(),\n",
    "    \"worker_init_fn\": worker_init_reset_seed\n",
    "}\n",
    "\n",
    "train_params = {\n",
    "    \"warmup_initial_lr\": 1e-6,\n",
    "    \"initial_lr\": 5e-4,\n",
    "    \"lr_mode\": \"cosine\",\n",
    "    \"cosine_final_lr_ratio\": 0.1,\n",
    "    \"optimizer\": \"AdamW\",\n",
    "    \"zero_weight_decay_on_bias_and_bn\": True,\n",
    "    \"lr_warmup_epochs\": 3,\n",
    "    \"warmup_mode\": \"linear_epoch_step\",\n",
    "    \"optimizer_params\": {\"weight_decay\": 0.0001},\n",
    "    \"ema\": True,\n",
    "    \"ema_params\": {\"decay\": 0.9, \"decay_type\": \"threshold\"},\n",
    "    \"max_epochs\": 10,\n",
    "    \"mixed_precision\": True,\n",
    "    \"loss\": PPYoloELoss(use_static_assigner=False, num_classes=4, reg_max=16),\n",
    "    \"valid_metrics_list\": [\n",
    "        DetectionMetrics_050(score_thres=0.1, top_k_predictions=300, num_cls=4, normalize_targets=True,\n",
    "                             post_prediction_callback=PPYoloEPostPredictionCallback(score_threshold=0.01,\n",
    "                                                                                    nms_top_k=1000, max_predictions=300,\n",
    "                                                                                    nms_threshold=0.7))],\n",
    "\n",
    "    \"metric_to_watch\": 'mAP@0.50'}\n",
    "\n",
    "train_params, train_dataset_params, val_dataset_params, train_dataloader_params, val_dataloader_params = modify_params_for_qat(\n",
    "    train_params, train_dataset_params, val_dataset_params, train_dataloader_params, val_dataloader_params\n",
    ")\n",
    "\n",
    "trainset = COCOFormatDetectionDataset(**train_dataset_params)\n",
    "valset = COCOFormatDetectionDataset(**val_dataset_params)\n",
    "\n",
    "\n",
    "train_loader = dataloaders.get(dataset=trainset,\n",
    "                               dataloader_params=train_dataloader_params)\n",
    "\n",
    "valid_loader = dataloaders.get(dataset=valset,\n",
    "                               dataloader_params=val_dataloader_params)\n",
    "                               \n",
    "trainer.qat(model=net, training_params=train_params, train_loader=train_loader, valid_loader=valid_loader, calib_loader=train_loader)"
   ]
  },
  {
   "cell_type": "code",
   "execution_count": null,
   "id": "f01b3d0f",
   "metadata": {},
   "outputs": [],
   "source": []
  }
 ],
 "metadata": {
  "kernelspec": {
   "display_name": "Python 3 (ipykernel)",
   "language": "python",
   "name": "python3"
  },
  "language_info": {
   "codemirror_mode": {
    "name": "ipython",
    "version": 3
   },
   "file_extension": ".py",
   "mimetype": "text/x-python",
   "name": "python",
   "nbconvert_exporter": "python",
   "pygments_lexer": "ipython3",
   "version": "3.9.13"
  }
 },
 "nbformat": 4,
 "nbformat_minor": 5
}
